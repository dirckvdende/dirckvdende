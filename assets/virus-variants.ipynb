{
 "cells": [
  {
   "cell_type": "code",
   "execution_count": null,
   "id": "1fb097e2",
   "metadata": {},
   "outputs": [],
   "source": [
    "import matplotlib.pyplot as plt\n",
    "%matplotlib inline\n",
    "plt.rcParams[\"figure.dpi\"] = 200"
   ]
  },
  {
   "cell_type": "markdown",
   "id": "844238bb",
   "metadata": {},
   "source": [
    "# Basic model\n",
    "\n",
    "$$\n",
    "    \\frac{dI}{dt} = \\beta I\n",
    "$$"
   ]
  },
  {
   "cell_type": "code",
   "execution_count": null,
   "id": "c693873b",
   "metadata": {},
   "outputs": [],
   "source": [
    "dt = 0.01\n",
    "beta = 1.0\n",
    "i = 1.0\n",
    "steps = 1000\n",
    "\n",
    "history = []\n",
    "for _ in range(steps):\n",
    "    history.append(i)\n",
    "    i += i * beta * dt\n",
    "\n",
    "plt.title(f\"Simulating Basic Model; beta={beta}\")\n",
    "plt.stackplot([t * dt for t in range(steps)], history)\n",
    "plt.show()"
   ]
  },
  {
   "cell_type": "markdown",
   "id": "f6390a7d",
   "metadata": {},
   "source": [
    "# Adding immunity\n",
    "\n",
    "\\begin{align}\n",
    "    \\frac{dS}{dt} &= -\\beta IS \\\\\n",
    "    \\frac{dI}{dt} &= \\beta IS - \\gamma I\n",
    "\\end{align}"
   ]
  },
  {
   "cell_type": "code",
   "execution_count": null,
   "id": "31633b4e",
   "metadata": {},
   "outputs": [],
   "source": [
    "dt = 0.01\n",
    "beta = 0.3\n",
    "gamma = 0.1\n",
    "s = 0.99\n",
    "i = 0.01\n",
    "steps = 10000\n",
    "\n",
    "history = [[], []]\n",
    "for _ in range(steps):\n",
    "    history[0].append(i)\n",
    "    history[1].append(s)\n",
    "    s += -beta * i * s * dt\n",
    "    i += (beta * i * s - gamma * i) * dt\n",
    "\n",
    "plt.title(f\"Simulating Immunity; beta={beta}\")\n",
    "plt.stackplot([t * dt for t in range(steps)], history)\n",
    "plt.show()"
   ]
  },
  {
   "cell_type": "markdown",
   "id": "cbbd095e",
   "metadata": {},
   "source": [
    "# Variants\n",
    "\n",
    "\\begin{align}\n",
    "    \\frac{dI_1}{dt} &= \\beta_1 I_1 \\\\\n",
    "    \\frac{dI_2}{dt} &= \\beta_2 I_2\n",
    "\\end{align}"
   ]
  },
  {
   "cell_type": "code",
   "execution_count": null,
   "id": "c631e65c",
   "metadata": {},
   "outputs": [],
   "source": [
    "dt = 0.01\n",
    "beta = -0.1, 0.1\n",
    "i = 1.0, 0.01\n",
    "steps = 5000\n",
    "\n",
    "history = [[], []]\n",
    "for _ in range(steps):\n",
    "    history[0].append(i[0] / (i[0] + i[1]))\n",
    "    history[1].append(i[1] / (i[0] + i[1]))\n",
    "    i = i[0] + beta[0] * i[0] * dt, i[1] + beta[1] * i[1] * dt\n",
    "\n",
    "plt.title(f\"Variant dominance; beta={beta}\")\n",
    "plt.stackplot([t * dt for t in range(steps)], history)\n",
    "plt.show()"
   ]
  },
  {
   "cell_type": "markdown",
   "id": "359c06a1",
   "metadata": {},
   "source": [
    "# Variants with immunity\n",
    "\n",
    "\\begin{align}\n",
    "    \\frac{dS}{dt} &= -\\beta_1 I_1 S - \\beta_2 I_2 S \\\\\n",
    "    \\frac{dI_1}{dt} &= \\beta_1 I_1 S - \\gamma I_1 \\\\\n",
    "    \\frac{dI_2}{dt} &= \\beta_2 I_2 S - \\gamma I_2 \\\\\n",
    "\\end{align}"
   ]
  },
  {
   "cell_type": "code",
   "execution_count": null,
   "id": "6492d54f",
   "metadata": {},
   "outputs": [],
   "source": [
    "dt = 0.01\n",
    "beta = 0.1, 0.8\n",
    "gamma = 0.1\n",
    "i = [0.2, 0.00001]\n",
    "s = 1.0 - i[0] - i[1]\n",
    "steps = 5000\n",
    "\n",
    "history = [[], []]\n",
    "for _ in range(steps):\n",
    "    s += (-beta[0] * i[0] * s - beta[1] * i[1] * s) * dt\n",
    "    i[0] += (beta[0] * i[0] * s - gamma * i[0]) * dt\n",
    "    i[1] += (beta[1] * i[1] * s - gamma * i[1]) * dt\n",
    "    history[0].append(i[0] / (i[0] + i[1]))\n",
    "    history[1].append(i[1] / (i[0] + i[1]))\n",
    "\n",
    "plt.title(f\"Variants with immunity; beta={beta}\")\n",
    "plt.stackplot([t * dt for t in range(len(history[0]))], history)\n",
    "plt.show()"
   ]
  },
  {
   "cell_type": "markdown",
   "id": "30a6f85b",
   "metadata": {},
   "source": [
    "# Variants without cross-immunity\n",
    "\n",
    "\\begin{align}\n",
    "    \\frac{dS_1}{dt} &= -\\beta_1 I_1 S_1  \\\\\n",
    "    \\frac{dS_2}{dt} &= -\\beta_2 I_2 S_2 \\\\\n",
    "    \\frac{dI_1}{dt} &= \\beta_1 I_1 S_1 - \\gamma I_1 \\\\\n",
    "    \\frac{dI_2}{dt} &= \\beta_2 I_2 S_2 - \\gamma I_2 \\\\\n",
    "\\end{align}"
   ]
  },
  {
   "cell_type": "code",
   "execution_count": null,
   "id": "afdcbe48",
   "metadata": {},
   "outputs": [],
   "source": [
    "dt = 0.01\n",
    "beta = 0.1, 1.0\n",
    "gamma = 0.1\n",
    "i = [0.1, 1e-9]\n",
    "s = [1.0 - i[0], 1.0 - i[1]]\n",
    "steps = 5000\n",
    "\n",
    "history = [[], []]\n",
    "for _ in range(steps):\n",
    "    s[0] += (-beta[0] * i[0] * s[0]) * dt\n",
    "    s[1] += (-beta[1] * i[1] * s[1]) * dt\n",
    "    i[0] += (beta[0] * i[0] * s[0] - gamma * i[0]) * dt\n",
    "    i[1] += (beta[1] * i[1] * s[1] - gamma * i[1]) * dt\n",
    "    history[0].append(i[0] / (i[0] + i[1]))\n",
    "    history[1].append(i[1] / (i[0] + i[1]))\n",
    "\n",
    "plt.title(f\"Variants without cross-immunity; beta={beta}\")\n",
    "plt.stackplot([t * dt for t in range(len(history[0]))], history)\n",
    "plt.show()"
   ]
  }
 ],
 "metadata": {
  "kernelspec": {
   "display_name": "Python 3",
   "language": "python",
   "name": "python3"
  },
  "language_info": {
   "codemirror_mode": {
    "name": "ipython",
    "version": 3
   },
   "file_extension": ".py",
   "mimetype": "text/x-python",
   "name": "python",
   "nbconvert_exporter": "python",
   "pygments_lexer": "ipython3",
   "version": "3.12.10"
  }
 },
 "nbformat": 4,
 "nbformat_minor": 5
}
